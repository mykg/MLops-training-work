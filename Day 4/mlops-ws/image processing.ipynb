{
 "cells": [
  {
   "cell_type": "code",
   "execution_count": 2,
   "metadata": {},
   "outputs": [],
   "source": [
    "import cv2"
   ]
  },
  {
   "cell_type": "code",
   "execution_count": 3,
   "metadata": {},
   "outputs": [],
   "source": [
    "photo = cv2.imread('award.jpg')"
   ]
  },
  {
   "cell_type": "code",
   "execution_count": 9,
   "metadata": {},
   "outputs": [],
   "source": [
    "cv2.imshow('vimal award'  , photo)\n",
    "cv2.waitKey()\n",
    "cv2.destroyAllWindows()"
   ]
  },
  {
   "cell_type": "code",
   "execution_count": 11,
   "metadata": {},
   "outputs": [
    {
     "data": {
      "text/plain": [
       "(1365, 2048, 3)"
      ]
     },
     "execution_count": 11,
     "metadata": {},
     "output_type": "execute_result"
    }
   ],
   "source": [
    "photo.shape"
   ]
  },
  {
   "cell_type": "code",
   "execution_count": 6,
   "metadata": {},
   "outputs": [
    {
     "data": {
      "text/plain": [
       "array([[[19, 12,  9],\n",
       "        [19, 12,  9],\n",
       "        [19, 12,  9],\n",
       "        ...,\n",
       "        [ 9,  7,  6],\n",
       "        [ 9,  7,  6],\n",
       "        [ 9,  7,  6]],\n",
       "\n",
       "       [[19, 12,  9],\n",
       "        [19, 12,  9],\n",
       "        [19, 12,  9],\n",
       "        ...,\n",
       "        [ 9,  7,  6],\n",
       "        [ 9,  7,  6],\n",
       "        [ 9,  7,  6]],\n",
       "\n",
       "       [[19, 12,  9],\n",
       "        [19, 12,  9],\n",
       "        [19, 12,  9],\n",
       "        ...,\n",
       "        [ 9,  7,  6],\n",
       "        [ 9,  7,  6],\n",
       "        [ 9,  7,  6]],\n",
       "\n",
       "       ...,\n",
       "\n",
       "       [[ 9,  7,  6],\n",
       "        [ 9,  7,  6],\n",
       "        [10,  8,  7],\n",
       "        ...,\n",
       "        [ 9,  7,  6],\n",
       "        [ 9,  7,  6],\n",
       "        [ 9,  7,  6]],\n",
       "\n",
       "       [[ 9,  7,  6],\n",
       "        [ 9,  7,  6],\n",
       "        [10,  8,  7],\n",
       "        ...,\n",
       "        [ 9,  7,  6],\n",
       "        [ 9,  7,  6],\n",
       "        [ 9,  7,  6]],\n",
       "\n",
       "       [[ 9,  7,  6],\n",
       "        [ 9,  7,  6],\n",
       "        [10,  8,  7],\n",
       "        ...,\n",
       "        [ 9,  7,  6],\n",
       "        [ 9,  7,  6],\n",
       "        [ 9,  7,  6]]], dtype=uint8)"
      ]
     },
     "execution_count": 6,
     "metadata": {},
     "output_type": "execute_result"
    }
   ],
   "source": [
    "photo"
   ]
  },
  {
   "cell_type": "code",
   "execution_count": 12,
   "metadata": {},
   "outputs": [],
   "source": [
    "newphoto = cv2.cvtColor( photo ,  cv2.COLOR_BGR2GRAY )"
   ]
  },
  {
   "cell_type": "code",
   "execution_count": 22,
   "metadata": {},
   "outputs": [],
   "source": [
    "cv2.imshow('hi' , newphoto)\n",
    "cv2.waitKey()\n",
    "cv2.destroyAllWindows()"
   ]
  },
  {
   "cell_type": "code",
   "execution_count": 14,
   "metadata": {},
   "outputs": [
    {
     "data": {
      "text/plain": [
       "(1365, 2048)"
      ]
     },
     "execution_count": 14,
     "metadata": {},
     "output_type": "execute_result"
    }
   ],
   "source": [
    "newphoto.shape"
   ]
  },
  {
   "cell_type": "code",
   "execution_count": 15,
   "metadata": {},
   "outputs": [
    {
     "data": {
      "text/plain": [
       "array([[12, 12, 12, ...,  7,  7,  7],\n",
       "       [12, 12, 12, ...,  7,  7,  7],\n",
       "       [12, 12, 12, ...,  7,  7,  7],\n",
       "       ...,\n",
       "       [ 7,  7,  8, ...,  7,  7,  7],\n",
       "       [ 7,  7,  8, ...,  7,  7,  7],\n",
       "       [ 7,  7,  8, ...,  7,  7,  7]], dtype=uint8)"
      ]
     },
     "execution_count": 15,
     "metadata": {},
     "output_type": "execute_result"
    }
   ],
   "source": [
    "newphoto"
   ]
  },
  {
   "cell_type": "code",
   "execution_count": 17,
   "metadata": {},
   "outputs": [],
   "source": [
    "import numpy as np"
   ]
  },
  {
   "cell_type": "code",
   "execution_count": 28,
   "metadata": {},
   "outputs": [],
   "source": [
    "c = np.zeros( (200,200)) + 0"
   ]
  },
  {
   "cell_type": "code",
   "execution_count": 29,
   "metadata": {},
   "outputs": [],
   "source": [
    "cv2.imshow('ji', c)\n",
    "cv2.waitKey()\n",
    "cv2.destroyAllWindows()"
   ]
  },
  {
   "cell_type": "code",
   "execution_count": 30,
   "metadata": {},
   "outputs": [
    {
     "data": {
      "text/plain": [
       "array([[0., 0., 0., ..., 0., 0., 0.],\n",
       "       [0., 0., 0., ..., 0., 0., 0.],\n",
       "       [0., 0., 0., ..., 0., 0., 0.],\n",
       "       ...,\n",
       "       [0., 0., 0., ..., 0., 0., 0.],\n",
       "       [0., 0., 0., ..., 0., 0., 0.],\n",
       "       [0., 0., 0., ..., 0., 0., 0.]])"
      ]
     },
     "execution_count": 30,
     "metadata": {},
     "output_type": "execute_result"
    }
   ],
   "source": [
    "c"
   ]
  },
  {
   "cell_type": "code",
   "execution_count": null,
   "metadata": {},
   "outputs": [],
   "source": []
  }
 ],
 "metadata": {
  "kernelspec": {
   "display_name": "Python 3",
   "language": "python",
   "name": "python3"
  },
  "language_info": {
   "codemirror_mode": {
    "name": "ipython",
    "version": 3
   },
   "file_extension": ".py",
   "mimetype": "text/x-python",
   "name": "python",
   "nbconvert_exporter": "python",
   "pygments_lexer": "ipython3",
   "version": "3.7.0"
  }
 },
 "nbformat": 4,
 "nbformat_minor": 2
}
