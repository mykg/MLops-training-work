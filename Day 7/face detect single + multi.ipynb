{
 "cells": [
  {
   "cell_type": "code",
   "execution_count": null,
   "metadata": {},
   "outputs": [],
   "source": [
    "import cv2"
   ]
  },
  {
   "cell_type": "code",
   "execution_count": null,
   "metadata": {},
   "outputs": [],
   "source": [
    "cap = cv2.VideoCapture(0)"
   ]
  },
  {
   "cell_type": "code",
   "execution_count": null,
   "metadata": {},
   "outputs": [],
   "source": [
    "# logic of a video\n",
    "while True:\n",
    "    status , photo = cap.read()\n",
    "    cv2.imshow(\"hi\",photo)\n",
    "    if cv2.waitKey(1) == 13:\n",
    "        break\n",
    "        \n",
    "cv2.destroyAllWindows()\n",
    "\n",
    "cap.release()"
   ]
  },
  {
   "cell_type": "code",
   "execution_count": null,
   "metadata": {},
   "outputs": [],
   "source": [
    "# for face detection we will use haarcascade"
   ]
  },
  {
   "cell_type": "code",
   "execution_count": null,
   "metadata": {},
   "outputs": [],
   "source": [
    "face_model = cv2.CascadeClassifier('haarcascade_frontalface_default.xml')"
   ]
  },
  {
   "cell_type": "code",
   "execution_count": null,
   "metadata": {},
   "outputs": [],
   "source": [
    "face_coordinate = face_model.detectMultiScale(photo)"
   ]
  },
  {
   "cell_type": "code",
   "execution_count": null,
   "metadata": {},
   "outputs": [],
   "source": [
    "face_coordinate"
   ]
  },
  {
   "cell_type": "code",
   "execution_count": null,
   "metadata": {},
   "outputs": [],
   "source": [
    "len(face_coordinate) # signifies one face"
   ]
  },
  {
   "cell_type": "code",
   "execution_count": null,
   "metadata": {},
   "outputs": [],
   "source": [
    "# final code\n",
    "import cv2\n",
    "cap = cv2.VideoCapture(0)\n",
    "face_model = cv2.CascadeClassifier('haarcascade_frontalface_default.xml')"
   ]
  },
  {
   "cell_type": "code",
   "execution_count": null,
   "metadata": {},
   "outputs": [],
   "source": [
    "# final code\n",
    "while True:\n",
    "    \n",
    "    status , photo = cap.read()\n",
    "    # below satatmet detect face\n",
    "    face_coordinate = face_model.detectMultiScale(photo)\n",
    "    \n",
    "    if len(face_coordinate) == 0: # if no face found pass\n",
    "        pass\n",
    "    \n",
    "    else:\n",
    "        # the real rect on face\n",
    "        x1 = face_coordinate[0][0]\n",
    "        y1 = face_coordinate[0][1]\n",
    "        x2 = x1 + face_coordinate[0][2]\n",
    "        y2 = y1 + face_coordinate[0][3]\n",
    "\n",
    "        photo = cv2.rectangle(photo, (x1,y1), (x2,y2), [0,255,0], 3)\n",
    "        cv2.imshow(\"hi\",photo)\n",
    "        if cv2.waitKey(1) == 13:\n",
    "            break\n",
    "            \n",
    "cv2.destroyAllWindows()\n",
    "\n",
    "\n",
    "cap.release()"
   ]
  },
  {
   "cell_type": "code",
   "execution_count": null,
   "metadata": {},
   "outputs": [],
   "source": [
    "# multiple face detect"
   ]
  },
  {
   "cell_type": "code",
   "execution_count": 1,
   "metadata": {},
   "outputs": [],
   "source": [
    "import cv2\n",
    "cap = cv2.VideoCapture(0)\n",
    "face_model = cv2.CascadeClassifier('haarcascade_frontalface_default.xml')"
   ]
  },
  {
   "cell_type": "code",
   "execution_count": 2,
   "metadata": {},
   "outputs": [],
   "source": [
    "while True:\n",
    "    \n",
    "    status , photo = cap.read()\n",
    "    # below satatmet detect face\n",
    "    face_coordinate = face_model.detectMultiScale(photo)\n",
    "    \n",
    "    if len(face_coordinate) == 0: # if no face found pass\n",
    "           pass\n",
    "    \n",
    "    else:\n",
    "        \n",
    "        for (x,y,h,w) in face_coordinate:\n",
    "            n = 'number of faces: '\n",
    "            cv2.putText(photo, n+str(len(face_coordinate)), (10,25), cv2.FONT_HERSHEY_COMPLEX, 1, [0,0,255], 2)\n",
    "            photo = cv2.rectangle(photo, (x,y), (x+h,y+w), [0,255,0], 3)\n",
    "            cv2.imshow(\"multiple face detect\",photo)\n",
    "            \n",
    "        \n",
    "        if cv2.waitKey(1) == 13:\n",
    "            break\n",
    "            \n",
    "cv2.destroyAllWindows()\n",
    "\n",
    "cap.release()"
   ]
  },
  {
   "cell_type": "code",
   "execution_count": null,
   "metadata": {},
   "outputs": [],
   "source": [
    "photo.shape"
   ]
  },
  {
   "cell_type": "code",
   "execution_count": null,
   "metadata": {},
   "outputs": [],
   "source": []
  }
 ],
 "metadata": {
  "kernelspec": {
   "display_name": "Python 3",
   "language": "python",
   "name": "python3"
  },
  "language_info": {
   "codemirror_mode": {
    "name": "ipython",
    "version": 3
   },
   "file_extension": ".py",
   "mimetype": "text/x-python",
   "name": "python",
   "nbconvert_exporter": "python",
   "pygments_lexer": "ipython3",
   "version": "3.7.3"
  }
 },
 "nbformat": 4,
 "nbformat_minor": 2
}
