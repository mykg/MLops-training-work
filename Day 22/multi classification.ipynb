{
 "cells": [
  {
   "cell_type": "code",
   "execution_count": 1,
   "metadata": {},
   "outputs": [],
   "source": [
    "import pandas as pd"
   ]
  },
  {
   "cell_type": "code",
   "execution_count": 2,
   "metadata": {},
   "outputs": [],
   "source": [
    "df = pd.read_csv('wines.csv')"
   ]
  },
  {
   "cell_type": "code",
   "execution_count": 3,
   "metadata": {},
   "outputs": [
    {
     "name": "stdout",
     "output_type": "stream",
     "text": [
      "<class 'pandas.core.frame.DataFrame'>\n",
      "RangeIndex: 178 entries, 0 to 177\n",
      "Data columns (total 14 columns):\n",
      "Class                           178 non-null int64\n",
      "Alcohol                         178 non-null float64\n",
      "Malic_acid                      178 non-null float64\n",
      "Ash                             178 non-null float64\n",
      "Alcalinity_of_ash               178 non-null float64\n",
      "Magnesium                       178 non-null int64\n",
      "Total_phenols                   178 non-null float64\n",
      "Flavanoids                      178 non-null float64\n",
      "Nonflavanoid_phenols            178 non-null float64\n",
      "Proanthocyanins                 178 non-null float64\n",
      "Color_intensity                 178 non-null float64\n",
      "Hue                             178 non-null float64\n",
      "OD280-OD315_of_diluted_wines    178 non-null float64\n",
      "Proline                         178 non-null int64\n",
      "dtypes: float64(11), int64(3)\n",
      "memory usage: 19.6 KB\n"
     ]
    }
   ],
   "source": [
    "df.info()"
   ]
  },
  {
   "cell_type": "code",
   "execution_count": 4,
   "metadata": {},
   "outputs": [
    {
     "data": {
      "text/html": [
       "<div>\n",
       "<style scoped>\n",
       "    .dataframe tbody tr th:only-of-type {\n",
       "        vertical-align: middle;\n",
       "    }\n",
       "\n",
       "    .dataframe tbody tr th {\n",
       "        vertical-align: top;\n",
       "    }\n",
       "\n",
       "    .dataframe thead th {\n",
       "        text-align: right;\n",
       "    }\n",
       "</style>\n",
       "<table border=\"1\" class=\"dataframe\">\n",
       "  <thead>\n",
       "    <tr style=\"text-align: right;\">\n",
       "      <th></th>\n",
       "      <th>Class</th>\n",
       "      <th>Alcohol</th>\n",
       "      <th>Malic_acid</th>\n",
       "      <th>Ash</th>\n",
       "      <th>Alcalinity_of_ash</th>\n",
       "      <th>Magnesium</th>\n",
       "      <th>Total_phenols</th>\n",
       "      <th>Flavanoids</th>\n",
       "      <th>Nonflavanoid_phenols</th>\n",
       "      <th>Proanthocyanins</th>\n",
       "      <th>Color_intensity</th>\n",
       "      <th>Hue</th>\n",
       "      <th>OD280-OD315_of_diluted_wines</th>\n",
       "      <th>Proline</th>\n",
       "    </tr>\n",
       "  </thead>\n",
       "  <tbody>\n",
       "    <tr>\n",
       "      <th>0</th>\n",
       "      <td>1</td>\n",
       "      <td>14.23</td>\n",
       "      <td>1.71</td>\n",
       "      <td>2.43</td>\n",
       "      <td>15.6</td>\n",
       "      <td>127</td>\n",
       "      <td>2.80</td>\n",
       "      <td>3.06</td>\n",
       "      <td>0.28</td>\n",
       "      <td>2.29</td>\n",
       "      <td>5.64</td>\n",
       "      <td>1.04</td>\n",
       "      <td>3.92</td>\n",
       "      <td>1065</td>\n",
       "    </tr>\n",
       "    <tr>\n",
       "      <th>1</th>\n",
       "      <td>1</td>\n",
       "      <td>13.20</td>\n",
       "      <td>1.78</td>\n",
       "      <td>2.14</td>\n",
       "      <td>11.2</td>\n",
       "      <td>100</td>\n",
       "      <td>2.65</td>\n",
       "      <td>2.76</td>\n",
       "      <td>0.26</td>\n",
       "      <td>1.28</td>\n",
       "      <td>4.38</td>\n",
       "      <td>1.05</td>\n",
       "      <td>3.40</td>\n",
       "      <td>1050</td>\n",
       "    </tr>\n",
       "    <tr>\n",
       "      <th>2</th>\n",
       "      <td>1</td>\n",
       "      <td>13.16</td>\n",
       "      <td>2.36</td>\n",
       "      <td>2.67</td>\n",
       "      <td>18.6</td>\n",
       "      <td>101</td>\n",
       "      <td>2.80</td>\n",
       "      <td>3.24</td>\n",
       "      <td>0.30</td>\n",
       "      <td>2.81</td>\n",
       "      <td>5.68</td>\n",
       "      <td>1.03</td>\n",
       "      <td>3.17</td>\n",
       "      <td>1185</td>\n",
       "    </tr>\n",
       "    <tr>\n",
       "      <th>3</th>\n",
       "      <td>1</td>\n",
       "      <td>14.37</td>\n",
       "      <td>1.95</td>\n",
       "      <td>2.50</td>\n",
       "      <td>16.8</td>\n",
       "      <td>113</td>\n",
       "      <td>3.85</td>\n",
       "      <td>3.49</td>\n",
       "      <td>0.24</td>\n",
       "      <td>2.18</td>\n",
       "      <td>7.80</td>\n",
       "      <td>0.86</td>\n",
       "      <td>3.45</td>\n",
       "      <td>1480</td>\n",
       "    </tr>\n",
       "    <tr>\n",
       "      <th>4</th>\n",
       "      <td>1</td>\n",
       "      <td>13.24</td>\n",
       "      <td>2.59</td>\n",
       "      <td>2.87</td>\n",
       "      <td>21.0</td>\n",
       "      <td>118</td>\n",
       "      <td>2.80</td>\n",
       "      <td>2.69</td>\n",
       "      <td>0.39</td>\n",
       "      <td>1.82</td>\n",
       "      <td>4.32</td>\n",
       "      <td>1.04</td>\n",
       "      <td>2.93</td>\n",
       "      <td>735</td>\n",
       "    </tr>\n",
       "  </tbody>\n",
       "</table>\n",
       "</div>"
      ],
      "text/plain": [
       "   Class  Alcohol  Malic_acid   Ash  Alcalinity_of_ash  Magnesium  \\\n",
       "0      1    14.23        1.71  2.43               15.6        127   \n",
       "1      1    13.20        1.78  2.14               11.2        100   \n",
       "2      1    13.16        2.36  2.67               18.6        101   \n",
       "3      1    14.37        1.95  2.50               16.8        113   \n",
       "4      1    13.24        2.59  2.87               21.0        118   \n",
       "\n",
       "   Total_phenols  Flavanoids  Nonflavanoid_phenols  Proanthocyanins  \\\n",
       "0           2.80        3.06                  0.28             2.29   \n",
       "1           2.65        2.76                  0.26             1.28   \n",
       "2           2.80        3.24                  0.30             2.81   \n",
       "3           3.85        3.49                  0.24             2.18   \n",
       "4           2.80        2.69                  0.39             1.82   \n",
       "\n",
       "   Color_intensity   Hue  OD280-OD315_of_diluted_wines  Proline  \n",
       "0             5.64  1.04                          3.92     1065  \n",
       "1             4.38  1.05                          3.40     1050  \n",
       "2             5.68  1.03                          3.17     1185  \n",
       "3             7.80  0.86                          3.45     1480  \n",
       "4             4.32  1.04                          2.93      735  "
      ]
     },
     "execution_count": 4,
     "metadata": {},
     "output_type": "execute_result"
    }
   ],
   "source": [
    "df.head()"
   ]
  },
  {
   "cell_type": "code",
   "execution_count": 5,
   "metadata": {},
   "outputs": [],
   "source": [
    "y = df['Class']"
   ]
  },
  {
   "cell_type": "code",
   "execution_count": 6,
   "metadata": {},
   "outputs": [
    {
     "data": {
      "text/plain": [
       "2    71\n",
       "1    59\n",
       "3    48\n",
       "Name: Class, dtype: int64"
      ]
     },
     "execution_count": 6,
     "metadata": {},
     "output_type": "execute_result"
    }
   ],
   "source": [
    "y.value_counts()"
   ]
  },
  {
   "cell_type": "code",
   "execution_count": 7,
   "metadata": {},
   "outputs": [],
   "source": [
    "y_cat = pd.get_dummies(y)"
   ]
  },
  {
   "cell_type": "code",
   "execution_count": 8,
   "metadata": {},
   "outputs": [
    {
     "data": {
      "text/plain": [
       "(178, 3)"
      ]
     },
     "execution_count": 8,
     "metadata": {},
     "output_type": "execute_result"
    }
   ],
   "source": [
    "y_cat.shape"
   ]
  },
  {
   "cell_type": "code",
   "execution_count": 9,
   "metadata": {},
   "outputs": [
    {
     "data": {
      "text/plain": [
       "Index(['Class', 'Alcohol', 'Malic_acid', 'Ash', 'Alcalinity_of_ash',\n",
       "       'Magnesium', 'Total_phenols', 'Flavanoids', 'Nonflavanoid_phenols',\n",
       "       'Proanthocyanins', 'Color_intensity', 'Hue',\n",
       "       'OD280-OD315_of_diluted_wines', 'Proline'],\n",
       "      dtype='object')"
      ]
     },
     "execution_count": 9,
     "metadata": {},
     "output_type": "execute_result"
    }
   ],
   "source": [
    "df.columns"
   ]
  },
  {
   "cell_type": "code",
   "execution_count": 10,
   "metadata": {},
   "outputs": [],
   "source": [
    "X = df.drop('Class', axis=1)"
   ]
  },
  {
   "cell_type": "code",
   "execution_count": 11,
   "metadata": {},
   "outputs": [
    {
     "name": "stdout",
     "output_type": "stream",
     "text": [
      "<class 'pandas.core.frame.DataFrame'>\n",
      "RangeIndex: 178 entries, 0 to 177\n",
      "Data columns (total 13 columns):\n",
      "Alcohol                         178 non-null float64\n",
      "Malic_acid                      178 non-null float64\n",
      "Ash                             178 non-null float64\n",
      "Alcalinity_of_ash               178 non-null float64\n",
      "Magnesium                       178 non-null int64\n",
      "Total_phenols                   178 non-null float64\n",
      "Flavanoids                      178 non-null float64\n",
      "Nonflavanoid_phenols            178 non-null float64\n",
      "Proanthocyanins                 178 non-null float64\n",
      "Color_intensity                 178 non-null float64\n",
      "Hue                             178 non-null float64\n",
      "OD280-OD315_of_diluted_wines    178 non-null float64\n",
      "Proline                         178 non-null int64\n",
      "dtypes: float64(11), int64(2)\n",
      "memory usage: 18.2 KB\n"
     ]
    }
   ],
   "source": [
    "X.info()"
   ]
  },
  {
   "cell_type": "code",
   "execution_count": 12,
   "metadata": {},
   "outputs": [],
   "source": [
    "import seaborn as sns\n",
    "sns.set()"
   ]
  },
  {
   "cell_type": "code",
   "execution_count": 13,
   "metadata": {},
   "outputs": [
    {
     "data": {
      "text/plain": [
       "<matplotlib.axes._subplots.AxesSubplot at 0x11f653975c0>"
      ]
     },
     "execution_count": 13,
     "metadata": {},
     "output_type": "execute_result"
    },
    {
     "data": {
      "image/png": "[encoded data removed]",
      "text/plain": [
       "<Figure size 432x288 with 1 Axes>"
      ]
     },
     "metadata": {
      "needs_background": "light"
     },
     "output_type": "display_data"
    }
   ],
   "source": [
    "sns.scatterplot(x='Alcohol', y=y, data=df)"
   ]
  },
  {
   "cell_type": "code",
   "execution_count": 14,
   "metadata": {},
   "outputs": [
    {
     "name": "stderr",
     "output_type": "stream",
     "text": [
      "Using TensorFlow backend.\n"
     ]
    }
   ],
   "source": [
    "from keras.models import Sequential"
   ]
  },
  {
   "cell_type": "code",
   "execution_count": 15,
   "metadata": {},
   "outputs": [],
   "source": [
    "model = Sequential()"
   ]
  },
  {
   "cell_type": "code",
   "execution_count": 16,
   "metadata": {},
   "outputs": [],
   "source": [
    "from keras.layers import Dense"
   ]
  },
  {
   "cell_type": "code",
   "execution_count": 17,
   "metadata": {},
   "outputs": [],
   "source": [
    "model.add(Dense(units=5, input_shape=(13,), activation='relu', kernel_initializer='he_normal' ))"
   ]
  },
  {
   "cell_type": "code",
   "execution_count": 18,
   "metadata": {},
   "outputs": [
    {
     "name": "stdout",
     "output_type": "stream",
     "text": [
      "Model: \"sequential_1\"\n",
      "_________________________________________________________________\n",
      "Layer (type)                 Output Shape              Param #   \n",
      "=================================================================\n",
      "dense_1 (Dense)              (None, 5)                 70        \n",
      "=================================================================\n",
      "Total params: 70\n",
      "Trainable params: 70\n",
      "Non-trainable params: 0\n",
      "_________________________________________________________________\n"
     ]
    }
   ],
   "source": [
    "model.summary()"
   ]
  },
  {
   "cell_type": "code",
   "execution_count": 19,
   "metadata": {},
   "outputs": [],
   "source": [
    "model.add(Dense(units=8, activation='relu', kernel_initializer='he_normal' ))"
   ]
  },
  {
   "cell_type": "code",
   "execution_count": 20,
   "metadata": {},
   "outputs": [
    {
     "name": "stdout",
     "output_type": "stream",
     "text": [
      "Model: \"sequential_1\"\n",
      "_________________________________________________________________\n",
      "Layer (type)                 Output Shape              Param #   \n",
      "=================================================================\n",
      "dense_1 (Dense)              (None, 5)                 70        \n",
      "_________________________________________________________________\n",
      "dense_2 (Dense)              (None, 8)                 48        \n",
      "=================================================================\n",
      "Total params: 118\n",
      "Trainable params: 118\n",
      "Non-trainable params: 0\n",
      "_________________________________________________________________\n"
     ]
    }
   ],
   "source": [
    "model.summary()"
   ]
  },
  {
   "cell_type": "code",
   "execution_count": 21,
   "metadata": {},
   "outputs": [],
   "source": [
    "model.add(Dense(units=2, activation='relu', kernel_initializer='he_normal' ))"
   ]
  },
  {
   "cell_type": "code",
   "execution_count": 22,
   "metadata": {},
   "outputs": [
    {
     "name": "stdout",
     "output_type": "stream",
     "text": [
      "Model: \"sequential_1\"\n",
      "_________________________________________________________________\n",
      "Layer (type)                 Output Shape              Param #   \n",
      "=================================================================\n",
      "dense_1 (Dense)              (None, 5)                 70        \n",
      "_________________________________________________________________\n",
      "dense_2 (Dense)              (None, 8)                 48        \n",
      "_________________________________________________________________\n",
      "dense_3 (Dense)              (None, 2)                 18        \n",
      "=================================================================\n",
      "Total params: 136\n",
      "Trainable params: 136\n",
      "Non-trainable params: 0\n",
      "_________________________________________________________________\n"
     ]
    }
   ],
   "source": [
    "model.summary()"
   ]
  },
  {
   "cell_type": "code",
   "execution_count": 23,
   "metadata": {},
   "outputs": [],
   "source": [
    "model.add(Dense(units=3, activation='softmax'))"
   ]
  },
  {
   "cell_type": "code",
   "execution_count": 24,
   "metadata": {},
   "outputs": [
    {
     "name": "stdout",
     "output_type": "stream",
     "text": [
      "Model: \"sequential_1\"\n",
      "_________________________________________________________________\n",
      "Layer (type)                 Output Shape              Param #   \n",
      "=================================================================\n",
      "dense_1 (Dense)              (None, 5)                 70        \n",
      "_________________________________________________________________\n",
      "dense_2 (Dense)              (None, 8)                 48        \n",
      "_________________________________________________________________\n",
      "dense_3 (Dense)              (None, 2)                 18        \n",
      "_________________________________________________________________\n",
      "dense_4 (Dense)              (None, 3)                 9         \n",
      "=================================================================\n",
      "Total params: 145\n",
      "Trainable params: 145\n",
      "Non-trainable params: 0\n",
      "_________________________________________________________________\n"
     ]
    }
   ],
   "source": [
    "model.summary()"
   ]
  },
  {
   "cell_type": "code",
   "execution_count": 25,
   "metadata": {},
   "outputs": [],
   "source": [
    "from keras.optimizers import RMSprop"
   ]
  },
  {
   "cell_type": "code",
   "execution_count": 26,
   "metadata": {},
   "outputs": [],
   "source": [
    "model.compile(optimizer=RMSprop(learning_rate=0.001), loss='categorical_crossentropy', metrics=['accuracy'] )"
   ]
  },
  {
   "cell_type": "code",
   "execution_count": 27,
   "metadata": {},
   "outputs": [
    {
     "data": {
      "text/plain": [
       "<tf.Tensor 'dense_1_input:0' shape=(None, 13) dtype=float32>"
      ]
     },
     "execution_count": 27,
     "metadata": {},
     "output_type": "execute_result"
    }
   ],
   "source": [
    "model.layers[0].input"
   ]
  },
  {
   "cell_type": "code",
   "execution_count": 28,
   "metadata": {},
   "outputs": [
    {
     "data": {
      "text/plain": [
       "<tf.Tensor 'dense_4/Softmax:0' shape=(None, 3) dtype=float32>"
      ]
     },
     "execution_count": 28,
     "metadata": {},
     "output_type": "execute_result"
    }
   ],
   "source": [
    "model.layers[3].output"
   ]
  },
  {
   "cell_type": "code",
   "execution_count": 29,
   "metadata": {},
   "outputs": [
    {
     "name": "stdout",
     "output_type": "stream",
     "text": [
      "Epoch 1/100\n",
      "178/178 [==============================] - 0s 1ms/step - loss: 249.7764 - accuracy: 0.3989\n",
      "Epoch 2/100\n",
      "178/178 [==============================] - 0s 105us/step - loss: 224.9317 - accuracy: 0.3989\n",
      "Epoch 3/100\n",
      "178/178 [==============================] - 0s 84us/step - loss: 208.3077 - accuracy: 0.3989\n",
      "Epoch 4/100\n",
      "178/178 [==============================] - 0s 118us/step - loss: 193.1014 - accuracy: 0.3989\n",
      "Epoch 5/100\n",
      "178/178 [==============================] - 0s 112us/step - loss: 178.5053 - accuracy: 0.3989\n",
      "Epoch 6/100\n",
      "178/178 [==============================] - 0s 88us/step - loss: 164.8966 - accuracy: 0.3989\n",
      "Epoch 7/100\n",
      "178/178 [==============================] - 0s 106us/step - loss: 152.2557 - accuracy: 0.3989\n",
      "Epoch 8/100\n",
      "178/178 [==============================] - 0s 109us/step - loss: 139.7850 - accuracy: 0.3989\n",
      "Epoch 9/100\n",
      "178/178 [==============================] - 0s 95us/step - loss: 128.1570 - accuracy: 0.3989\n",
      "Epoch 10/100\n",
      "178/178 [==============================] - 0s 106us/step - loss: 116.4937 - accuracy: 0.3989\n",
      "Epoch 11/100\n",
      "178/178 [==============================] - 0s 101us/step - loss: 105.4688 - accuracy: 0.3989\n",
      "Epoch 12/100\n",
      "178/178 [==============================] - 0s 106us/step - loss: 94.7904 - accuracy: 0.3989\n",
      "Epoch 13/100\n",
      "178/178 [==============================] - 0s 101us/step - loss: 84.3272 - accuracy: 0.3989\n",
      "Epoch 14/100\n",
      "178/178 [==============================] - 0s 90us/step - loss: 74.2532 - accuracy: 0.3820\n",
      "Epoch 15/100\n",
      "178/178 [==============================] - 0s 94us/step - loss: 64.8684 - accuracy: 0.3483\n",
      "Epoch 16/100\n",
      "178/178 [==============================] - 0s 92us/step - loss: 55.6161 - accuracy: 0.3483\n",
      "Epoch 17/100\n",
      "178/178 [==============================] - 0s 112us/step - loss: 46.5772 - accuracy: 0.3202\n",
      "Epoch 18/100\n",
      "178/178 [==============================] - 0s 106us/step - loss: 37.9693 - accuracy: 0.2416\n",
      "Epoch 19/100\n",
      "178/178 [==============================] - 0s 106us/step - loss: 29.5966 - accuracy: 0.2022\n",
      "Epoch 20/100\n",
      "178/178 [==============================] - 0s 134us/step - loss: 21.9990 - accuracy: 0.1461\n",
      "Epoch 21/100\n",
      "178/178 [==============================] - 0s 105us/step - loss: 15.4451 - accuracy: 0.1011\n",
      "Epoch 22/100\n",
      "178/178 [==============================] - 0s 101us/step - loss: 10.1973 - accuracy: 0.0674\n",
      "Epoch 23/100\n",
      "178/178 [==============================] - 0s 114us/step - loss: 5.7880 - accuracy: 0.1067\n",
      "Epoch 24/100\n",
      "178/178 [==============================] - 0s 118us/step - loss: 2.8654 - accuracy: 0.1798\n",
      "Epoch 25/100\n",
      "178/178 [==============================] - 0s 105us/step - loss: 1.5326 - accuracy: 0.2416\n",
      "Epoch 26/100\n",
      "178/178 [==============================] - 0s 124us/step - loss: 1.2011 - accuracy: 0.3034\n",
      "Epoch 27/100\n",
      "178/178 [==============================] - 0s 118us/step - loss: 1.1450 - accuracy: 0.3202\n",
      "Epoch 28/100\n",
      "178/178 [==============================] - 0s 96us/step - loss: 1.1240 - accuracy: 0.3258\n",
      "Epoch 29/100\n",
      "178/178 [==============================] - 0s 129us/step - loss: 1.1177 - accuracy: 0.3315\n",
      "Epoch 30/100\n",
      "178/178 [==============================] - 0s 108us/step - loss: 1.1167 - accuracy: 0.3315\n",
      "Epoch 31/100\n",
      "178/178 [==============================] - 0s 90us/step - loss: 1.1159 - accuracy: 0.3315\n",
      "Epoch 32/100\n",
      "178/178 [==============================] - 0s 134us/step - loss: 1.1150 - accuracy: 0.3315\n",
      "Epoch 33/100\n",
      "178/178 [==============================] - 0s 100us/step - loss: 1.1140 - accuracy: 0.3315\n",
      "Epoch 34/100\n",
      "178/178 [==============================] - 0s 101us/step - loss: 1.1131 - accuracy: 0.3315\n",
      "Epoch 35/100\n",
      "178/178 [==============================] - 0s 146us/step - loss: 1.1122 - accuracy: 0.3315\n",
      "Epoch 36/100\n",
      "178/178 [==============================] - 0s 118us/step - loss: 1.1114 - accuracy: 0.3315\n",
      "Epoch 37/100\n",
      "178/178 [==============================] - 0s 129us/step - loss: 1.1105 - accuracy: 0.3315\n",
      "Epoch 38/100\n",
      "178/178 [==============================] - 0s 118us/step - loss: 1.1098 - accuracy: 0.3315\n",
      "Epoch 39/100\n",
      "178/178 [==============================] - 0s 101us/step - loss: 1.1090 - accuracy: 0.3315\n",
      "Epoch 40/100\n",
      "178/178 [==============================] - 0s 106us/step - loss: 1.1083 - accuracy: 0.3315\n",
      "Epoch 41/100\n",
      "178/178 [==============================] - 0s 95us/step - loss: 1.1076 - accuracy: 0.3315\n",
      "Epoch 42/100\n",
      "178/178 [==============================] - 0s 106us/step - loss: 1.1069 - accuracy: 0.3315\n",
      "Epoch 43/100\n",
      "178/178 [==============================] - 0s 87us/step - loss: 1.1061 - accuracy: 0.3315\n",
      "Epoch 44/100\n",
      "178/178 [==============================] - 0s 101us/step - loss: 1.1055 - accuracy: 0.3315\n",
      "Epoch 45/100\n",
      "178/178 [==============================] - 0s 106us/step - loss: 1.1049 - accuracy: 0.3315\n",
      "Epoch 46/100\n",
      "178/178 [==============================] - ETA: 0s - loss: 1.0964 - accuracy: 0.40 - 0s 89us/step - loss: 1.1042 - accuracy: 0.3315\n",
      "Epoch 47/100\n",
      "178/178 [==============================] - 0s 109us/step - loss: 1.1036 - accuracy: 0.3315\n",
      "Epoch 48/100\n",
      "178/178 [==============================] - 0s 85us/step - loss: 1.1030 - accuracy: 0.3315\n",
      "Epoch 49/100\n",
      "178/178 [==============================] - 0s 84us/step - loss: 1.1024 - accuracy: 0.3315\n",
      "Epoch 50/100\n",
      "178/178 [==============================] - 0s 106us/step - loss: 1.1019 - accuracy: 0.3315\n",
      "Epoch 51/100\n",
      "178/178 [==============================] - 0s 106us/step - loss: 1.1015 - accuracy: 0.3315\n",
      "Epoch 52/100\n",
      "178/178 [==============================] - 0s 131us/step - loss: 1.1008 - accuracy: 0.3315\n",
      "Epoch 53/100\n",
      "178/178 [==============================] - 0s 103us/step - loss: 1.1002 - accuracy: 0.3315\n",
      "Epoch 54/100\n",
      "178/178 [==============================] - 0s 112us/step - loss: 1.0999 - accuracy: 0.3315\n",
      "Epoch 55/100\n",
      "178/178 [==============================] - 0s 72us/step - loss: 1.0995 - accuracy: 0.3315\n",
      "Epoch 56/100\n",
      "178/178 [==============================] - 0s 86us/step - loss: 1.0992 - accuracy: 0.3315\n",
      "Epoch 57/100\n",
      "178/178 [==============================] - 0s 106us/step - loss: 1.0987 - accuracy: 0.3315\n",
      "Epoch 58/100\n",
      "178/178 [==============================] - 0s 105us/step - loss: 1.0984 - accuracy: 0.3315\n",
      "Epoch 59/100\n",
      "178/178 [==============================] - 0s 98us/step - loss: 1.0980 - accuracy: 0.3315\n",
      "Epoch 60/100\n",
      "178/178 [==============================] - 0s 134us/step - loss: 1.0976 - accuracy: 0.3315\n",
      "Epoch 61/100\n",
      "178/178 [==============================] - 0s 112us/step - loss: 1.0973 - accuracy: 0.3315\n",
      "Epoch 62/100\n",
      "178/178 [==============================] - 0s 106us/step - loss: 1.0969 - accuracy: 0.3315\n",
      "Epoch 63/100\n",
      "178/178 [==============================] - 0s 124us/step - loss: 1.0964 - accuracy: 0.3315\n",
      "Epoch 64/100\n",
      "178/178 [==============================] - 0s 157us/step - loss: 1.0959 - accuracy: 0.3315\n",
      "Epoch 65/100\n",
      "178/178 [==============================] - 0s 112us/step - loss: 1.0955 - accuracy: 0.3315\n",
      "Epoch 66/100\n",
      "178/178 [==============================] - 0s 90us/step - loss: 1.0952 - accuracy: 0.3315\n",
      "Epoch 67/100\n",
      "178/178 [==============================] - 0s 135us/step - loss: 1.0948 - accuracy: 0.3315\n",
      "Epoch 68/100\n",
      "178/178 [==============================] - 0s 83us/step - loss: 1.0945 - accuracy: 0.3315\n",
      "Epoch 69/100\n",
      "178/178 [==============================] - 0s 101us/step - loss: 1.0942 - accuracy: 0.3315\n",
      "Epoch 70/100\n",
      "178/178 [==============================] - 0s 71us/step - loss: 1.0938 - accuracy: 0.3315\n",
      "Epoch 71/100\n",
      "178/178 [==============================] - 0s 101us/step - loss: 1.0936 - accuracy: 0.3315\n",
      "Epoch 72/100\n",
      "178/178 [==============================] - 0s 123us/step - loss: 1.0932 - accuracy: 0.3315\n",
      "Epoch 73/100\n",
      "178/178 [==============================] - 0s 118us/step - loss: 1.0930 - accuracy: 0.3427\n",
      "Epoch 74/100\n",
      "178/178 [==============================] - 0s 90us/step - loss: 1.0926 - accuracy: 0.3989\n",
      "Epoch 75/100\n",
      "178/178 [==============================] - 0s 101us/step - loss: 1.0924 - accuracy: 0.3989\n",
      "Epoch 76/100\n",
      "178/178 [==============================] - 0s 106us/step - loss: 1.0921 - accuracy: 0.3989\n",
      "Epoch 77/100\n",
      "178/178 [==============================] - 0s 112us/step - loss: 1.0919 - accuracy: 0.3989\n",
      "Epoch 78/100\n",
      "178/178 [==============================] - 0s 112us/step - loss: 1.0917 - accuracy: 0.3989\n",
      "Epoch 79/100\n"
     ]
    },
    {
     "name": "stdout",
     "output_type": "stream",
     "text": [
      "178/178 [==============================] - 0s 101us/step - loss: 1.0914 - accuracy: 0.3989\n",
      "Epoch 80/100\n",
      "178/178 [==============================] - 0s 106us/step - loss: 1.0911 - accuracy: 0.3989\n",
      "Epoch 81/100\n",
      "178/178 [==============================] - 0s 153us/step - loss: 1.0911 - accuracy: 0.3989\n",
      "Epoch 82/100\n",
      "178/178 [==============================] - 0s 135us/step - loss: 1.0908 - accuracy: 0.3989\n",
      "Epoch 83/100\n",
      "178/178 [==============================] - 0s 112us/step - loss: 1.0907 - accuracy: 0.3989\n",
      "Epoch 84/100\n",
      "178/178 [==============================] - 0s 110us/step - loss: 1.0905 - accuracy: 0.3989\n",
      "Epoch 85/100\n",
      "178/178 [==============================] - 0s 95us/step - loss: 1.0903 - accuracy: 0.3989\n",
      "Epoch 86/100\n",
      "178/178 [==============================] - 0s 106us/step - loss: 1.0901 - accuracy: 0.3989\n",
      "Epoch 87/100\n",
      "178/178 [==============================] - 0s 101us/step - loss: 1.0900 - accuracy: 0.3989\n",
      "Epoch 88/100\n",
      "178/178 [==============================] - 0s 100us/step - loss: 1.0898 - accuracy: 0.3989\n",
      "Epoch 89/100\n",
      "178/178 [==============================] - 0s 101us/step - loss: 1.0898 - accuracy: 0.3989\n",
      "Epoch 90/100\n",
      "178/178 [==============================] - 0s 101us/step - loss: 1.0897 - accuracy: 0.3989\n",
      "Epoch 91/100\n",
      "178/178 [==============================] - 0s 123us/step - loss: 1.0894 - accuracy: 0.3989\n",
      "Epoch 92/100\n",
      "178/178 [==============================] - 0s 101us/step - loss: 1.0893 - accuracy: 0.3989\n",
      "Epoch 93/100\n",
      "178/178 [==============================] - 0s 101us/step - loss: 1.0891 - accuracy: 0.3989\n",
      "Epoch 94/100\n",
      "178/178 [==============================] - 0s 90us/step - loss: 1.0890 - accuracy: 0.3989\n",
      "Epoch 95/100\n",
      "178/178 [==============================] - 0s 103us/step - loss: 1.0890 - accuracy: 0.3989\n",
      "Epoch 96/100\n",
      "178/178 [==============================] - 0s 101us/step - loss: 1.0889 - accuracy: 0.3989\n",
      "Epoch 97/100\n",
      "178/178 [==============================] - 0s 101us/step - loss: 1.0887 - accuracy: 0.3989\n",
      "Epoch 98/100\n",
      "178/178 [==============================] - 0s 101us/step - loss: 1.0886 - accuracy: 0.3989\n",
      "Epoch 99/100\n",
      "178/178 [==============================] - 0s 94us/step - loss: 1.0886 - accuracy: 0.3989\n",
      "Epoch 100/100\n",
      "178/178 [==============================] - 0s 90us/step - loss: 1.0884 - accuracy: 0.3989\n"
     ]
    },
    {
     "data": {
      "text/plain": [
       "<keras.callbacks.callbacks.History at 0x11f6bc60f98>"
      ]
     },
     "execution_count": 29,
     "metadata": {},
     "output_type": "execute_result"
    }
   ],
   "source": [
    "model.fit(X,y_cat, epochs=100)"
   ]
  },
  {
   "cell_type": "code",
   "execution_count": 30,
   "metadata": {},
   "outputs": [],
   "source": [
    "import keras.backend as K"
   ]
  },
  {
   "cell_type": "code",
   "execution_count": 31,
   "metadata": {},
   "outputs": [],
   "source": [
    "#K.clear_session()"
   ]
  },
  {
   "cell_type": "code",
   "execution_count": 32,
   "metadata": {},
   "outputs": [],
   "source": [
    "#model.get_weights()"
   ]
  },
  {
   "cell_type": "code",
   "execution_count": 33,
   "metadata": {},
   "outputs": [],
   "source": [
    "loss = pd.DataFrame(model.history.history)"
   ]
  },
  {
   "cell_type": "code",
   "execution_count": 34,
   "metadata": {},
   "outputs": [
    {
     "data": {
      "text/plain": [
       "pandas.core.frame.DataFrame"
      ]
     },
     "execution_count": 34,
     "metadata": {},
     "output_type": "execute_result"
    }
   ],
   "source": [
    "type(loss)"
   ]
  },
  {
   "cell_type": "code",
   "execution_count": 35,
   "metadata": {},
   "outputs": [
    {
     "data": {
      "text/plain": [
       "<matplotlib.axes._subplots.AxesSubplot at 0x11f65283f28>"
      ]
     },
     "execution_count": 35,
     "metadata": {},
     "output_type": "execute_result"
    },
    {
     "data": {
      "image/png": "[encoded data removed]",
      "text/plain": [
       "<Figure size 432x288 with 1 Axes>"
      ]
     },
     "metadata": {
      "needs_background": "light"
     },
     "output_type": "display_data"
    }
   ],
   "source": [
    "loss.plot()"
   ]
  },
  {
   "cell_type": "code",
   "execution_count": 37,
   "metadata": {},
   "outputs": [],
   "source": [
    "model.save('wines_model.h5')"
   ]
  },
  {
   "cell_type": "code",
   "execution_count": null,
   "metadata": {},
   "outputs": [],
   "source": []
  }
 ],
 "metadata": {
  "kernelspec": {
   "display_name": "Python 3",
   "language": "python",
   "name": "python3"
  },
  "language_info": {
   "codemirror_mode": {
    "name": "ipython",
    "version": 3
   },
   "file_extension": ".py",
   "mimetype": "text/x-python",
   "name": "python",
   "nbconvert_exporter": "python",
   "pygments_lexer": "ipython3",
   "version": "3.7.0"
  }
 },
 "nbformat": 4,
 "nbformat_minor": 2
}
